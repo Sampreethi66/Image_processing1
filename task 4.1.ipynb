{
 "cells": [
  {
   "cell_type": "code",
   "execution_count": 1,
   "id": "da6a99d7",
   "metadata": {},
   "outputs": [],
   "source": [
    "import cv2\n",
    "import numpy as np\n",
    "import matplotlib.pyplot as mp"
   ]
  },
  {
   "cell_type": "code",
   "execution_count": 2,
   "id": "3bf0195f",
   "metadata": {},
   "outputs": [],
   "source": [
    "image=np.zeros((700,700,3))\n",
    "image[50:150,210:310]=[0,0,255]\n",
    "image[155:260,210:310]=[0,255,0]\n",
    "image[50:150,315:420]=[255,0,0]\n",
    "image[155:260,315:420]=[0,140,255]\n",
    "image[265:365,425:525]=[0,0,255]\n",
    "image[370:480,425:525]=[0,255,0]\n",
    "image[265:365,530:630]=[255,0,0]\n",
    "image[370:480,530:630]=[0,140,255]\n"
   ]
  },
  {
   "cell_type": "code",
   "execution_count": null,
   "id": "e29eab4d",
   "metadata": {},
   "outputs": [],
   "source": [
    "cv2.imshow(\"sam\",image)\n",
    "cv2.waitKey()\n",
    "cv2.destroyAllWindows()"
   ]
  },
  {
   "cell_type": "code",
   "execution_count": null,
   "id": "f16de721",
   "metadata": {},
   "outputs": [],
   "source": [
    "mp.imshow(image)"
   ]
  },
  {
   "cell_type": "code",
   "execution_count": null,
   "id": "44197340",
   "metadata": {},
   "outputs": [],
   "source": []
  }
 ],
 "metadata": {
  "kernelspec": {
   "display_name": "Python 3",
   "language": "python",
   "name": "python3"
  },
  "language_info": {
   "codemirror_mode": {
    "name": "ipython",
    "version": 3
   },
   "file_extension": ".py",
   "mimetype": "text/x-python",
   "name": "python",
   "nbconvert_exporter": "python",
   "pygments_lexer": "ipython3",
   "version": "3.9.5"
  }
 },
 "nbformat": 4,
 "nbformat_minor": 5
}
